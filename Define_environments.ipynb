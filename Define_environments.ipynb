{
 "cells": [
  {
   "cell_type": "markdown",
   "id": "5b1a4019",
   "metadata": {},
   "source": [
    "## This module defines environments that can be used for experiments"
   ]
  },
  {
   "cell_type": "code",
   "execution_count": 4,
   "id": "697dae17",
   "metadata": {},
   "outputs": [],
   "source": [
    "import numpy \n",
    "import utils\n",
    "import pickle"
   ]
  },
  {
   "cell_type": "code",
   "execution_count": 14,
   "id": "1a85cc58",
   "metadata": {},
   "outputs": [
    {
     "data": {
      "image/png": "[encoded data removed]",
      "text/plain": [
       "<Figure size 864x864 with 1 Axes>"
      ]
     },
     "metadata": {
      "needs_background": "light"
     },
     "output_type": "display_data"
    }
   ],
   "source": [
    "#Set up a maze\n",
    "\n",
    "width = 13\n",
    "\n",
    "height = 13\n",
    "\n",
    "start_state = (1, 1)\n",
    "\n",
    "reward_states = [(11, 11), (3, 11)]\n",
    "\n",
    "rewards = [10, 5]\n",
    "\n",
    "walls = [*[(wall, 0) for wall in range(13)],\n",
    "         *[(wall, 12) for wall in range(13)],\n",
    "         *[(0, wall) for wall in range(13)],\n",
    "         *[(12, wall) for wall in range(13)],\n",
    "         *[(wall, 2) for wall in range(7)], \n",
    "         *[(wall, 2) for wall in range(8, 11)],\n",
    "         (8,3),\n",
    "         *[(wall, 4) for wall in range(5, 12)],\n",
    "         *[(wall, 4) for wall in range(2, 4)],\n",
    "         (3,5),\n",
    "         *[(wall, 6) for wall in range(6)],\n",
    "         *[(wall, 6) for wall in range(7, 12)],\n",
    "         (2, 8),\n",
    "         *[(wall, 8) for wall in range(4, 9)],\n",
    "         (10,8),\n",
    "         (10,9),\n",
    "         *[(wall, 10) for wall in range(8, 12)],\n",
    "         *[(wall, 10) for wall in range(2, 7)],\n",
    "         (4, 11)\n",
    "        ]\n",
    "\n",
    "utils.plot((height, width), walls, start_state, reward_states)\n",
    "\n",
    "\n",
    "maze = {\n",
    "    'width':width,\n",
    "    'height':height,\n",
    "    'walls': walls,\n",
    "    'start_state':start_state,\n",
    "    'reward_states':reward_states,\n",
    "    'rewards':rewards\n",
    "}\n",
    "\n",
    "with open('Environments/maze.pickle', 'wb') as handle:\n",
    "    pickle.dump(maze, handle)"
   ]
  },
  {
   "cell_type": "code",
   "execution_count": 8,
   "id": "47682f98",
   "metadata": {},
   "outputs": [],
   "source": [
    "with open('maze.pickle', 'rb') as handle:\n",
    "    env_info = pickle.load(handle)"
   ]
  }
 ],
 "metadata": {
  "kernelspec": {
   "display_name": "Python 3",
   "language": "python",
   "name": "python3"
  },
  "language_info": {
   "codemirror_mode": {
    "name": "ipython",
    "version": 3
   },
   "file_extension": ".py",
   "mimetype": "text/x-python",
   "name": "python",
   "nbconvert_exporter": "python",
   "pygments_lexer": "ipython3",
   "version": "3.8.8"
  },
  "varInspector": {
   "cols": {
    "lenName": 16,
    "lenType": 16,
    "lenVar": 40
   },
   "kernels_config": {
    "python": {
     "delete_cmd_postfix": "",
     "delete_cmd_prefix": "del ",
     "library": "var_list.py",
     "varRefreshCmd": "print(var_dic_list())"
    },
    "r": {
     "delete_cmd_postfix": ") ",
     "delete_cmd_prefix": "rm(",
     "library": "var_list.r",
     "varRefreshCmd": "cat(var_dic_list()) "
    }
   },
   "types_to_exclude": [
    "module",
    "function",
    "builtin_function_or_method",
    "instance",
    "_Feature"
   ],
   "window_display": false
  }
 },
 "nbformat": 4,
 "nbformat_minor": 5
}
