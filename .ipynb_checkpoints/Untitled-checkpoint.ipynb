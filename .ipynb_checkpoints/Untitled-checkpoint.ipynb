{
 "cells": [
  {
   "cell_type": "code",
   "execution_count": 1,
   "id": "0fd441c9",
   "metadata": {},
   "outputs": [],
   "source": [
    "import numpy as np\n",
    "import pickle\n",
    "from tqdm import tqdm\n",
    "import matplotlib.pyplot as plt\n",
    "\n",
    "import utils\n",
    "from env import Maze\n",
    "from agent import QAgent\n",
    "from RL import ReinforcementLearning\n",
    "\n",
    "%load_ext autoreload\n",
    "%autoreload 2"
   ]
  },
  {
   "cell_type": "code",
   "execution_count": 2,
   "id": "c9061ea0",
   "metadata": {},
   "outputs": [],
   "source": [
    "class TemporalDifferenceSuccessor:\n",
    "    def __init__(self):\n",
    "        \"\"\"\n",
    "        Creates an instances of an agent that uses SR.\n",
    "        \"\"\"\n",
    "        pass\n",
    "    \n",
    "    def agent_init(self, agent_info={}):\n",
    "        \"\"\"\n",
    "        Initlaizes the SR agent according to the parameters defined in agent_info\n",
    "        \"\"\"\n",
    "        #Set up tracking variables\n",
    "        self.last_action = None\n",
    "        self.last_state = None\n",
    "        self.num_steps = 0\n",
    "        \n",
    "        #Set up task\n",
    "        self.num_states = agent_info['num_states']\n",
    "        self.num_actions = agent_info['num_actions']\n",
    "        \n",
    "        #Set up matrices\n",
    "        self.Q = np.zeros([self.num_states, self.num_actions])\n",
    "        self.M = np.zeros([self.num_states, self.num_states])\n",
    "        self.w = np.zeros([self.num_states]) #Reward_vector\n",
    "        \n",
    "        \n",
    "        #Set Hyperparameter\n",
    "        self.step_size = agent_info['step_size']\n",
    "        self.discount_factor = agent_info['discount_factor']\n",
    "        self.epsilon = agent_info['epsilon']\n",
    "        \n",
    "        \n",
    "    def agent_sample_action(self, state):\n",
    "        \"\"\"\n",
    "        Sample action for the given state\n",
    "        \"\"\"\n",
    "        if np.random.random()<self.epsilon: #Exploration\n",
    "            action = np.random.choice(range(4))\n",
    "            \n",
    "        else: #Exploitation\n",
    "            action = utils.argmax(self.Q[state])\n",
    "            \n",
    "        return action\n",
    "    \n",
    "    \n",
    "    def agent_update_values(self, reward, state):\n",
    "        \"\"\"\n",
    "        Updates the Q-values, reward_vector and the SR\n",
    "        \"\"\"\n",
    "        \n",
    "        #Update Q-values\n",
    "        self.Q[self.last_state][self.last_action] = np.dot(self.M[state], self.w)\n",
    "         \n",
    "        #Compute TD-error and update w\n",
    "        #delta = reward + np.dot(self.M[state], self.w) - np.dot(self.M[self.last_state], self.w)\n",
    "        #self.w += self.step_size*delta*self.M[self.last_state]\n",
    "        \n",
    "        #Alternative w\n",
    "        delta = reward + self.discount_factor*self.w[state] - self.w[self.last_state]\n",
    "        self.w[self.last_state] += self.step_size*delta\n",
    "        \n",
    "        #Compute the SR-error and update M\n",
    "        one_hot = np.zeros(self.num_states)\n",
    "        one_hot[self.last_state] = 1\n",
    "        \n",
    "        delta = one_hot + self.discount_factor*self.M[state] - self.M[self.last_state]\n",
    "        self.M[self.last_state] += self.step_size*delta\n",
    "        \n",
    "        pass\n",
    "        \n",
    "        \n",
    "    \n",
    "    def agent_start(self, start_state):\n",
    "        \"\"\"\n",
    "        Samples first action for the starting_state\n",
    "        \"\"\"\n",
    "        \n",
    "        action = self.agent_sample_action(start_state)\n",
    "        \n",
    "        #Store last state and action\n",
    "        self.last_state = start_state\n",
    "        self.last_action = action\n",
    "        \n",
    "        \n",
    "        #Update tracking variables\n",
    "        self.num_steps += 1\n",
    "        \n",
    "        return action\n",
    "        \n",
    "    \n",
    "    def agent_step(self, reward, state):\n",
    "        \"\"\"\n",
    "        Sample action in the given state. \n",
    "        Update the SR in the agent.\n",
    "        \"\"\" \n",
    "        \n",
    "        #Update the values\n",
    "        self.agent_update_values(reward, state)\n",
    "        \n",
    "        #Sample action\n",
    "        action = self.agent_sample_action(state)\n",
    "        \n",
    "        \n",
    "        #Store last state and action\n",
    "        self.last_state = state\n",
    "        self.last_action = action\n",
    "        \n",
    "        \n",
    "        #Update tracking variables\n",
    "        self.num_steps += 1\n",
    "        \n",
    "        return action\n",
    "        \n",
    "    \n",
    "    def agent_stop(self, reward, state):\n",
    "        \"\"\"\n",
    "        Updates the agent after reaching the final state\n",
    "        \"\"\"\n",
    "        self.agent_update_values(reward, state)\n",
    "        \n",
    "        #Store last_state\n",
    "        self.last_state = state\n",
    "        \n",
    "        #Update tracking variables\n",
    "        self.num_steps += 1\n",
    "        \n",
    "        pass\n",
    "        \n",
    "        \n",
    "        \n",
    "    "
   ]
  },
  {
   "cell_type": "code",
   "execution_count": 114,
   "id": "290ca441",
   "metadata": {},
   "outputs": [],
   "source": [
    "agent = TemporalDifferenceSuccessor()\n",
    "\n",
    "agent.agent_init(agent_info)"
   ]
  },
  {
   "cell_type": "code",
   "execution_count": 3,
   "id": "33b1114c",
   "metadata": {},
   "outputs": [
    {
     "data": {
      "image/png": "[encoded data removed]",
      "text/plain": [
       "<Figure size 864x864 with 1 Axes>"
      ]
     },
     "metadata": {
      "needs_background": "light"
     },
     "output_type": "display_data"
    }
   ],
   "source": [
    "#Use later for wrapper function to run experiment\n",
    "with open('Environments/maze.pickle', 'rb') as handle:\n",
    "    env_info = pickle.load(handle)\n",
    "utils.plot((env_info['height'], env_info['width']), env_info['walls'], env_info['start_state'], env_info['reward_states'])\n",
    "    \n",
    "      "
   ]
  },
  {
   "cell_type": "code",
   "execution_count": 116,
   "id": "cbd9be9d",
   "metadata": {},
   "outputs": [
    {
     "data": {
      "image/png": "[encoded data removed]",
      "text/plain": [
       "<Figure size 864x864 with 1 Axes>"
      ]
     },
     "metadata": {
      "needs_background": "light"
     },
     "output_type": "display_data"
    }
   ],
   "source": [
    "env = Maze()\n",
    "\n",
    "env.env_init(env_info)\n",
    "\n",
    "env.env_start()\n",
    "\n",
    "env.env_plot()"
   ]
  },
  {
   "cell_type": "code",
   "execution_count": 117,
   "id": "726b0f70",
   "metadata": {},
   "outputs": [],
   "source": [
    "def test_agent(env, agent, env_info, agent_info, num_steps):\n",
    "    \n",
    "    #Initilize the environment\n",
    "    env = env()\n",
    "    env.env_init(env_info)\n",
    "    \n",
    "    agent = agent()\n",
    "    agent.agent_init(agent_info)\n",
    "    \n",
    "    observation = env.env_start()\n",
    "    \n",
    "    action = agent.agent_start(observation[1])\n",
    "    \n",
    "    for step in range(10000):\n",
    "        observation = env.env_step(action)\n",
    "        \n",
    "        if observation[2]:\n",
    "            agent.agent_stop(observation[0], observation[1])\n",
    "            action = agent.agent_start(observation[1])\n",
    "            \n",
    "        else:\n",
    "            action = agent.agent_step(observation[0], observation[1])\n",
    "        \n",
    "        \n",
    "    \n",
    "    for step in range(num_steps):\n",
    "        observation = env.env_step(action)\n",
    "        \n",
    "        if observation[2]:\n",
    "            agent.agent_stop(observation[0], observation[1])\n",
    "            \n",
    "        else:\n",
    "            action = agent.agent_step(observation[0], observation[1])\n",
    "        \n",
    "        \n",
    "        print(agent.num_steps)\n",
    "        print(np.sum(agent.Q))\n",
    "        \n",
    "    return env, agent"
   ]
  },
  {
   "cell_type": "code",
   "execution_count": 118,
   "id": "433306cd",
   "metadata": {
    "scrolled": false
   },
   "outputs": [
    {
     "name": "stdout",
     "output_type": "stream",
     "text": [
      "10056\n",
      "-19575.949948191796\n",
      "10057\n",
      "-19575.94994988339\n",
      "10058\n",
      "-19575.949951490402\n",
      "10059\n",
      "-19575.94995301707\n",
      "10060\n",
      "-19575.949953475938\n",
      "10061\n",
      "-19575.949955362194\n",
      "10062\n",
      "-19575.94995715414\n",
      "10063\n",
      "-19575.949958397614\n",
      "10064\n",
      "-19575.949959578917\n",
      "10065\n",
      "-19575.949960701153\n",
      "10066\n",
      "-19575.94996176728\n",
      "10067\n",
      "-19575.9499627801\n",
      "10068\n",
      "-19575.94996374228\n",
      "10069\n",
      "-19575.94996465635\n",
      "10070\n",
      "-19575.949965524716\n",
      "10071\n",
      "-19575.949966349664\n",
      "10072\n",
      "-19575.94996713337\n",
      "10073\n",
      "-19575.94996787788\n",
      "10074\n",
      "-19575.94996858517\n",
      "10075\n",
      "-19575.949969257097\n"
     ]
    }
   ],
   "source": [
    "env, agent = test_agent(Maze, TemporalDifferenceSuccessor, env_info, agent_info, 20)"
   ]
  },
  {
   "cell_type": "code",
   "execution_count": null,
   "id": "06c5524c",
   "metadata": {},
   "outputs": [],
   "source": []
  },
  {
   "cell_type": "code",
   "execution_count": null,
   "id": "bf368f84",
   "metadata": {},
   "outputs": [],
   "source": []
  },
  {
   "cell_type": "code",
   "execution_count": null,
   "id": "bd6b7a07",
   "metadata": {},
   "outputs": [],
   "source": []
  },
  {
   "cell_type": "code",
   "execution_count": 11,
   "id": "5aa56e05",
   "metadata": {
    "scrolled": true
   },
   "outputs": [
    {
     "data": {
      "image/png": "[encoded data removed]",
      "text/plain": [
       "<Figure size 864x864 with 1 Axes>"
      ]
     },
     "metadata": {
      "needs_background": "light"
     },
     "output_type": "display_data"
    }
   ],
   "source": []
  },
  {
   "cell_type": "code",
   "execution_count": 4,
   "id": "f7cace00",
   "metadata": {},
   "outputs": [],
   "source": [
    "agent_info = {\n",
    "    'num_states':env_info['width']*env_info['height'],\n",
    "    'num_actions':4,\n",
    "    'step_size':0.3,\n",
    "    'discount_factor':0.99,\n",
    "    'epsilon':0.05,\n",
    "}"
   ]
  },
  {
   "cell_type": "code",
   "execution_count": 5,
   "id": "01a1d780",
   "metadata": {},
   "outputs": [],
   "source": [
    "RL = ReinforcementLearning(Maze, TemporalDifferenceSuccessor)"
   ]
  },
  {
   "cell_type": "code",
   "execution_count": 6,
   "id": "4a691688",
   "metadata": {},
   "outputs": [],
   "source": [
    "RL.rl_init(env_info, agent_info)"
   ]
  },
  {
   "cell_type": "code",
   "execution_count": null,
   "id": "d5b03e83",
   "metadata": {},
   "outputs": [
    {
     "name": "stderr",
     "output_type": "stream",
     "text": [
      "  0%|          | 1/500 [00:03<28:31,  3.43s/it]"
     ]
    }
   ],
   "source": [
    "NUM_EPISODES = 500\n",
    "\n",
    "num_steps = []\n",
    "\n",
    "RL.rl_init(env_info, agent_info)\n",
    "\n",
    "for episode in tqdm(range(NUM_EPISODES)):\n",
    "    RL.rl_episode()\n",
    "    \n",
    "    if episode%25==0:\n",
    "        num_steps.append(RL.num_steps)\n",
    "        \n",
    "\n",
    "plt.figure(figsize=(12, 12))\n",
    "plt.plot(range(0, 500, 25), num_steps)\n",
    "plt.yscale(\"log\")\n",
    "plt.show()"
   ]
  },
  {
   "cell_type": "code",
   "execution_count": null,
   "id": "5c6003cc",
   "metadata": {},
   "outputs": [],
   "source": [
    "#Change the task every 200 steps\n",
    "\n",
    "NUM_EPISODES = 700\n",
    "\n",
    "num_steps = []\n",
    "\n",
    "start_states = [(6, 1), (9, 3)]\n",
    "\n",
    "reward_states = [(9, 3), (11, 11), (11, 9)]\n",
    "\n",
    "\n",
    "RL.rl_init(env_info, agent_info)\n",
    "\n",
    "\n",
    "RL.rl_plot()\n",
    "\n",
    "for episode in tqdm(range(1, NUM_EPISODES+1)):\n",
    "    if episode%300==0:\n",
    "        index = episode//300\n",
    "        RL.rl_change_task(start_state=start_states[index-1])\n",
    "    if episode%200==0:\n",
    "        index = episode//200\n",
    "        RL.rl_change_task(reward_states=[reward_states[index-1]])\n",
    "        \n",
    "        RL.rl_plot()\n",
    "    \n",
    "    RL.rl_episode()\n",
    "    \n",
    "    if episode%25==0:\n",
    "        num_steps.append(RL.num_steps)\n",
    "        \n",
    "\n",
    "plt.figure(figsize=(12, 12))\n",
    "plt.plot(range(0, NUM_EPISODES, 25), num_steps)\n",
    "plt.yscale(\"log\")\n",
    "plt.show()"
   ]
  },
  {
   "cell_type": "code",
   "execution_count": null,
   "id": "ce66b0c5",
   "metadata": {},
   "outputs": [],
   "source": []
  }
 ],
 "metadata": {
  "kernelspec": {
   "display_name": "Python 3",
   "language": "python",
   "name": "python3"
  },
  "language_info": {
   "codemirror_mode": {
    "name": "ipython",
    "version": 3
   },
   "file_extension": ".py",
   "mimetype": "text/x-python",
   "name": "python",
   "nbconvert_exporter": "python",
   "pygments_lexer": "ipython3",
   "version": "3.8.8"
  },
  "varInspector": {
   "cols": {
    "lenName": 16,
    "lenType": 16,
    "lenVar": 40
   },
   "kernels_config": {
    "python": {
     "delete_cmd_postfix": "",
     "delete_cmd_prefix": "del ",
     "library": "var_list.py",
     "varRefreshCmd": "print(var_dic_list())"
    },
    "r": {
     "delete_cmd_postfix": ") ",
     "delete_cmd_prefix": "rm(",
     "library": "var_list.r",
     "varRefreshCmd": "cat(var_dic_list()) "
    }
   },
   "types_to_exclude": [
    "module",
    "function",
    "builtin_function_or_method",
    "instance",
    "_Feature"
   ],
   "window_display": false
  }
 },
 "nbformat": 4,
 "nbformat_minor": 5
}
